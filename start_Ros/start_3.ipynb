{
 "cells": [
  {
   "cell_type": "markdown",
   "metadata": {},
   "source": [
    "pytion으로 topic발행하기 publisher test"
   ]
  },
  {
   "cell_type": "code",
   "execution_count": 2,
   "metadata": {},
   "outputs": [],
   "source": [
    "import rclpy as rp\n",
    "# ROS 2의 Python 클라이언트 라이브러리인 rclpy를 가져옵니다.\n",
    "# as rp를 사용하여 이후 코드에서 rclpy 대신 rp라는 이름으로 참조할 수 있습니다.\n",
    "from geometry_msgs.msg import Twist\n",
    "# ROS 2에서 자주 사용하는 메시지 타입 중 하나인 Twist를 가져옵니다.\n",
    "# Twist는 주로 로봇의 선형 및 각속도(velocity)를 표현하는 데 사용됩니다.\n",
    "rp.init()\n",
    "# ROS 2 시스템을 초기화합니다.\n",
    "# 이 함수 호출로 ROS 2 통신을 시작할 준비가 완료됩니다.\n",
    "# 노드를 생성하기 전에 반드시 호출해야 합니다.\n",
    "test_node = rp.create_node('pub_test')\n",
    "# 이름이 'pub_test'인 ROS 2 노드를 생성합니다.\n",
    "# 생성된 노드 객체는 test_node 변수에 저장됩니다.\n",
    "# 이 노드는 퍼블리셔, 서브스크라이버 등 다양한 ROS 기능을 수행할 수 있습니다."
   ]
  },
  {
   "cell_type": "markdown",
   "metadata": {},
   "source": [
    "CMD.vel 을 발행할것임"
   ]
  },
  {
   "cell_type": "code",
   "execution_count": 3,
   "metadata": {},
   "outputs": [
    {
     "name": "stdout",
     "output_type": "stream",
     "text": [
      "geometry_msgs.msg.Twist(linear=geometry_msgs.msg.Vector3(x=0.0, y=0.0, z=0.0), angular=geometry_msgs.msg.Vector3(x=0.0, y=0.0, z=0.0))\n"
     ]
    }
   ],
   "source": [
    "msg = Twist()\n",
    "# Twist()는 ROS 2에서 사용되는 메시지 타입인 Twist의 인스턴스를 생성합니다.\n",
    "# 이 메시지는 로봇의 선형 속도와 각속도를 나타내는데, 내부적으로 linear와 angular라는 두 개의 Vector3 필드를 포함합니다.\n",
    "# 생성 시에는 기본값(보통 0으로 초기화됨)으로 설정됩니다.\n",
    "print(msg)\n",
    "# 생성한 msg 객체의 내용을 콘솔에 출력합니다.\n",
    "# 출력 결과로 Twist 메시지의 현재 값(기본적으로 모든 값이 0인 상태)이 표시됩니다."
   ]
  },
  {
   "cell_type": "code",
   "execution_count": null,
   "metadata": {},
   "outputs": [
    {
     "name": "stdout",
     "output_type": "stream",
     "text": [
      "geometry_msgs.msg.Twist(linear=geometry_msgs.msg.Vector3(x=2.0, y=0.0, z=0.0), angular=geometry_msgs.msg.Vector3(x=0.0, y=0.0, z=0.0))\n"
     ]
    }
   ],
   "source": [
    "msg.linear.x = 2.0\n",
    "# msg는 이전에 생성한 Twist 메시지 인스턴스입니다.\n",
    "# msg에는 linear라는 필드가 있는데, 이는 geometry_msgs.msg.Vector3 타입입니다.\n",
    "# msg.linear.x = 2.0은 이 Vector3의 x 구성요소를 2.0으로 설정하는 명령어입니다.\n",
    "# 즉, 로봇의 선형 속도 x축 방향을 2.0으로 지정하는 것입니다.\n",
    "print(msg)\n",
    "# 변경된 msg 객체의 내용을 콘솔에 출력합니다.\n",
    "# 출력 결과에는 linear.x가 2.0으로, 나머지 linear.y, linear.z, 그리고 angular 필드의 값은 기본값(보통 0.0)으로 표시됩니다"
   ]
  },
  {
   "cell_type": "code",
   "execution_count": null,
   "metadata": {},
   "outputs": [],
   "source": [
    "pub = test_node.create_publisher(Twist, '/turtle1/cmd_vel',10)\n",
    "# test_node.create_publisher(...):\n",
    "# test_node는 이전에 생성한 ROS 2 노드입니다.\n",
    "# create_publisher 메서드를 사용하여 새로운 퍼블리셔를 생성합니다.\n",
    "# Twist:\n",
    "# 이 퍼블리셔가 전송할 메시지 타입입니다.\n",
    "# Twist 메시지는 로봇의 선형 속도와 각속도를 표현하기 위해 사용됩니다.\n",
    "# '/turtle1/cmd_vel':\n",
    "# 메시지를 전송할 토픽의 이름입니다.\n",
    "# 여기서는 /turtle1/cmd_vel 토픽에 메시지를 보냅니다.\n",
    "# 10:\n",
    "# 퍼블리셔의 큐 사이즈입니다.\n",
    "# 최대 10개의 메시지를 버퍼에 저장할 수 있으며, 만약 이보다 빠르게 메시지가 전송된다면, 초과 메시지는 버려질 수 있습니다.\n",
    "# 결과:\n",
    "# pub 변수에 이 퍼블리셔 객체가 할당되며, 이 객체를 통해 Twist 메시지를 /turtle1/cmd_vel 토픽으로 전송할 수 있습니다.\n",
    "pub.publish(msg)"
   ]
  },
  {
   "cell_type": "code",
   "execution_count": null,
   "metadata": {},
   "outputs": [],
   "source": [
    "cnt = 0\n",
    "def timer_callback():\n",
    "    global cnt\n",
    "    cnt += 1\n",
    "    \n",
    "    print(cnt)\n",
    "    pub.publish(msg)\n",
    "    # 전역으로 정의된 퍼블리셔 객체 pub를 사용하여 msg 메시지를 발행(publish)합니다.\n",
    "    # 이 코드는 이전에 pub와 msg가 적절히 생성되고 설정되어 있어야 정상적으로 동작합니다.\n",
    "    if cnt > 3:\n",
    "        raise Exception(\"publisher stop\")"
   ]
  },
  {
   "cell_type": "code",
   "execution_count": null,
   "metadata": {},
   "outputs": [],
   "source": [
    "timer_period = 1\n",
    "# timer_period 변수에 1을 할당합니다.\n",
    "# 이 값은 타이머의 주기를 초 단위로 나타내며, 여기서는 1초마다 타이머 콜백 함수가 실행되도록 설정합니다.\n",
    "timer = test_node.create_timer(timer_period, timer_callback)\n",
    "# test_node는 이전에 생성한 ROS 2 노드 객체입니다.\n",
    "# create_timer 메서드를 호출하여 타이머를 생성합니다.\n",
    "# 첫 번째 인자인 timer_period는 타이머가 몇 초마다 실행될지를 결정합니다.\n",
    "# 두 번째 인자인 timer_callback은 타이머가 만료될 때마다 호출될 함수입니다.\n",
    "# 생성된 타이머 객체는 변수 timer에 저장되어, 나중에 필요할 때(예: 타이머 정지) 사용할 수 있습니다.\n",
    "rp.spin(test_node)\n",
    "# rp는 이전에 import rclpy as rp로 불러온 ROS 2의 Python 클라이언트 라이브러리입니다.\n",
    "# rp.spin(test_node)는 test_node를 실행시켜 ROS 2 이벤트(예: 타이머, 퍼블리셔, 서브스크라이버 콜백)를 처리하도록 만듭니다.\n",
    "# 이 함수는 노드가 종료되거나 예외가 발생할 때까지 계속해서 이벤트 루프를 돌게 됩니다."
   ]
  },
  {
   "cell_type": "code",
   "execution_count": 5,
   "metadata": {},
   "outputs": [],
   "source": [
    "test_node.destroy_node()\n",
    "# 이 줄은 test_node 객체에 대해 destroy_node() 메서드를 호출합니다.\n",
    "# 역할:\n",
    "# test_node에서 사용한 리소스(퍼블리셔, 서브스크라이버, 타이머 등)를 해제하고, 노드의 내부 상태를 정리합니다.\n",
    "# 필요성:\n",
    "# ROS 2 노드를 종료하기 전에 destroy_node()를 호출함으로써, 시스템 리소스를 올바르게 정리하여 메모리 누수나 기타 문제를 예방할 수 있습니다.\n",
    "# 보통의 사용 순서:\n",
    "# rclpy.spin()으로 노드의 이벤트 루프가 종료된 후, 노드를 파괴하고, 이후에 rclpy.shutdown()을 호출하여 ROS 2 시스템을 종료합니다."
   ]
  },
  {
   "cell_type": "code",
   "execution_count": 4,
   "metadata": {},
   "outputs": [],
   "source": [
    "rp.shutdown()"
   ]
  }
 ],
 "metadata": {
  "kernelspec": {
   "display_name": "usr",
   "language": "python",
   "name": "python3"
  },
  "language_info": {
   "codemirror_mode": {
    "name": "ipython",
    "version": 3
   },
   "file_extension": ".py",
   "mimetype": "text/x-python",
   "name": "python",
   "nbconvert_exporter": "python",
   "pygments_lexer": "ipython3",
   "version": "3.10.12"
  }
 },
 "nbformat": 4,
 "nbformat_minor": 2
}
