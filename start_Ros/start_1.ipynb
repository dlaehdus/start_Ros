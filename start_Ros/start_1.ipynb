{
 "cells": [
  {
   "cell_type": "markdown",
   "metadata": {},
   "source": [
    "turtle1이 발행할때 pytion으로 pose토픽을 구독해보기\n"
   ]
  },
  {
   "cell_type": "markdown",
   "metadata": {},
   "source": [
    "구독 할때는 토픽의 제목과 토픽의 데이터 타입을 알아야함"
   ]
  },
  {
   "cell_type": "code",
   "execution_count": 7,
   "metadata": {},
   "outputs": [],
   "source": [
    "import rclpy as rp \n",
    "# rclpy는 ROS2의 Python 클라이언트 라이브러리입니다.\n",
    "# ROS2 노드를 생성하고, 통신(토픽, 서비스 등)을 처리할 수 있도록 도와줍니다.\n",
    "# as rp를 사용하면, 코드 내에서 rclpy 대신 rp라는 이름으로 호출할 수 있습니다.\n",
    "\n",
    "from turtlesim.msg import Pose \n",
    "# turtlesim.msg는 turtlesim 패키지에서 정의된 메시지 타입들을 포함하는 모듈입니다.\n",
    "# Pose는 거북이의 위치와 방향(자세)을 나타내는 데이터 타입입니다.\n",
    "# 일반적으로 x, y 좌표와 theta(각도) 등의 정보를 담고 있습니다.\n",
    "# 이 메시지 타입은 ROS2의 통신(예: 토픽 발행/구독)에서 데이터를 주고받기 위한 표준 구조체로 사용됩니다."
   ]
  },
  {
   "cell_type": "code",
   "execution_count": 8,
   "metadata": {},
   "outputs": [],
   "source": [
    "rp.init()\n",
    "# ROS 2 초기화: 이 함수는 ROS 2 클라이언트 라이브러리를 초기화합니다.\n",
    "# 초기화를 통해 ROS 2 네트워크와의 통신을 설정하고, 노드 생성 및 통신 기능을 사용할 수 있도록 환경을 준비합니다.\n",
    "test_node = rp.create_node('sub_test') \n",
    "# 노드 생성: create_node 함수를 사용하여 이름이 'sub_test'인 ROS 2 노드를 생성합니다.\n",
    "# 노드는 ROS 2 시스템 내에서 메시지를 발행(publish)하거나 구독(subscribe), 서비스를 제공하거나 요청(request)하는 등 통신을 수행하는 기본 단위입니다."
   ]
  },
  {
   "cell_type": "code",
   "execution_count": null,
   "metadata": {},
   "outputs": [],
   "source": [
    "def callback(data): \n",
    "# 토픽 메시지가 도착할 때마다 실행되는 함수입니다.\n",
    "# data는 토픽에서 전달된 메시지(예: turtlesim의 Pose 메시지)를 담고 있습니다.\n",
    "    print(\"--->\")\n",
    "    print(\"/turtle1/pose :\", data)  \n",
    "    # 전체 메시지 객체를 출력합니다.\n",
    "    print(\"X ; \", data.x)           \n",
    "    # 메시지의 x 좌표 값을 출력합니다.\n",
    "    print(\"Y : \", data.y)           \n",
    "    # 메시지의 y 좌표 값을 출력합니다.\n",
    "    print(\"Theta : \", data.theta)   \n",
    "    # 메시지의 theta(회전각) 값을 출력합니다.\n"
   ]
  },
  {
   "cell_type": "code",
   "execution_count": null,
   "metadata": {},
   "outputs": [
    {
     "data": {
      "text/plain": [
       "<rclpy.subscription.Subscription at 0x79d4603d5540>"
      ]
     },
     "execution_count": 15,
     "metadata": {},
     "output_type": "execute_result"
    }
   ],
   "source": [
    "test_node.create_subscription(Pose, '/turtle1/pose', callback, 10)\n",
    "# Pose:\n",
    "# 구독할 메시지의 타입입니다. 여기서는 turtlesim.msg.Pose 메시지를 사용하며, 이 메시지는 거북이의 위치(x, y)와 방향(theta)을 나타냅니다.\n",
    "# '/turtle1/pose':\n",
    "# 구독할 토픽의 이름입니다. 이 토픽으로부터 메시지를 수신하게 됩니다.\n",
    "# callback:\n",
    "# 토픽에서 메시지가 도착할 때마다 호출되는 콜백 함수입니다. 이 함수 내에서 메시지 데이터를 처리하거나 출력하는 등의 작업을 수행할 수 있습니다.\n",
    "# 10:\n",
    "# 메시지 큐의 크기(버퍼 사이즈)입니다.\n",
    "# 이 값은 동시에 저장할 수 있는 최대 메시지 수를 의미하며, 만약 메시지 처리 속도보다 발행 속도가 빠를 경우 이 큐에 메시지들이 쌓이게 됩니다.\n"
   ]
  },
  {
   "cell_type": "code",
   "execution_count": 22,
   "metadata": {},
   "outputs": [
    {
     "name": "stdout",
     "output_type": "stream",
     "text": [
      "--->\n",
      "/turtle1/pose : turtlesim.msg.Pose(x=5.544444561004639, y=5.544444561004639, theta=0.0, linear_velocity=0.0, angular_velocity=0.0)\n",
      "X ;  5.544444561004639\n",
      "Y :  5.544444561004639\n",
      "Theta :  0.0\n"
     ]
    }
   ],
   "source": [
    "rp.spin_once(test_node) \n",
    "# rp.spin_once(test_node)는 ROS 2의 Python 클라이언트 라이브러리(rclpy)에서 제공하는 함수로, 지정한 노드(test_node)에 대해 한 번의 이벤트 처리를 수행합니다. 자세한 설명은 다음과 같습니다.\n",
    "# 이벤트 처리(iteration):\n",
    "# 이 함수는 test_node에 도착한 메시지, 타이머, 서비스 요청 등과 같은 이벤트를 한 번만 확인하고, 준비된 콜백 함수들을 실행합니다.\n",
    "# 즉시 리턴:\n",
    "# 만약 처리할 이벤트가 없다면, 바로 리턴됩니다.\n",
    "# 이는 무한 루프를 돌며 계속 처리하는 rp.spin(test_node)와는 달리, 한 번만 처리하고 프로그램의 흐름을 다시 돌려줍니다.\n",
    "# 사용 예시:\n",
    "# 예를 들어, 테스트나 디버깅 상황에서, 또는 메인 루프의 일부로 한 번씩 이벤트를 확인하고 싶을 때 유용합니다."
   ]
  },
  {
   "cell_type": "code",
   "execution_count": null,
   "metadata": {},
   "outputs": [],
   "source": [
    "rp.spin(test_node) \n",
    "# 정보가 계속 들어옴"
   ]
  },
  {
   "cell_type": "code",
   "execution_count": 11,
   "metadata": {},
   "outputs": [],
   "source": [
    "test_node.destroy_node()"
   ]
  }
 ],
 "metadata": {
  "kernelspec": {
   "display_name": "usr",
   "language": "python",
   "name": "python3"
  },
  "language_info": {
   "codemirror_mode": {
    "name": "ipython",
    "version": 3
   },
   "file_extension": ".py",
   "mimetype": "text/x-python",
   "name": "python",
   "nbconvert_exporter": "python",
   "pygments_lexer": "ipython3",
   "version": "3.10.12"
  }
 },
 "nbformat": 4,
 "nbformat_minor": 2
}
