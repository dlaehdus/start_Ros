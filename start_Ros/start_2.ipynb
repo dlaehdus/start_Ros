{
 "cells": [
  {
   "cell_type": "markdown",
   "metadata": {},
   "source": [
    "TOPIC 횟수 제한해보기"
   ]
  },
  {
   "cell_type": "markdown",
   "metadata": {},
   "source": [
    "토픽을 연달아 반복하면 그 부분에서 정체되어 있으므로 횟수를 제한해야함\n",
    "로봇이 움직일때 첫 topic에서 뭔가 나올리가 없으니까 예를 들어 조금 움직이다가 나오고 하니 카운터를 이용해야함"
   ]
  },
  {
   "cell_type": "code",
   "execution_count": 7,
   "metadata": {},
   "outputs": [],
   "source": [
    "import rclpy as rp \n",
    "# rclpy는 ROS2의 Python 클라이언트 라이브러리입니다.\n",
    "# ROS2 노드를 생성하고, 통신(토픽, 서비스 등)을 처리할 수 있도록 도와줍니다.\n",
    "# as rp를 사용하면, 코드 내에서 rclpy 대신 rp라는 이름으로 호출할 수 있습니다.\n",
    "\n",
    "from turtlesim.msg import Pose \n",
    "# turtlesim.msg는 turtlesim 패키지에서 정의된 메시지 타입들을 포함하는 모듈입니다.\n",
    "# Pose는 거북이의 위치와 방향(자세)을 나타내는 데이터 타입입니다.\n",
    "# 일반적으로 x, y 좌표와 theta(각도) 등의 정보를 담고 있습니다.\n",
    "# 이 메시지 타입은 ROS2의 통신(예: 토픽 발행/구독)에서 데이터를 주고받기 위한 표준 구조체로 사용됩니다."
   ]
  },
  {
   "cell_type": "code",
   "execution_count": null,
   "metadata": {},
   "outputs": [],
   "source": [
    "rp.init()\n",
    "# ROS 2 초기화: 이 함수는 ROS 2 클라이언트 라이브러리를 초기화합니다.\n",
    "# 초기화를 통해 ROS 2 네트워크와의 통신을 설정하고, 노드 생성 및 통신 기능을 사용할 수 있도록 환경을 준비합니다.\n",
    "test_node = rp.create_node('sub_test') \n",
    "# 노드 생성: create_node 함수를 사용하여 이름이 'sub_test'인 ROS 2 노드를 생성합니다.\n",
    "# 노드는 ROS 2 시스템 내에서 메시지를 발행(publish)하거나 구독(subscribe), 서비스를 제공하거나 요청(request)하는 등 통신을 수행하는 기본 단위입니다."
   ]
  },
  {
   "cell_type": "code",
   "execution_count": null,
   "metadata": {},
   "outputs": [],
   "source": [
    "cnt = 0\n",
    "# 목적:\n",
    "# 콜백 함수가 호출될 때마다 호출 횟수를 누적하기 위한 변수입니다.\n",
    "# 왜 전역 변수인가요?\n",
    "# 콜백 함수는 여러 번 호출되므로, 함수 내에 지역 변수로 선언하면 호출 시마다 초기화됩니다. 따라서 함수 외부에서 선언하고, 함수 내에서 global 키워드를 사용해 전역 변수에 접근합니다.\n",
    "def callback(data):\n",
    "    global cnt\n",
    "    cnt += 1\n",
    "    print(\">\", cnt, \" - > X :\", data.x,\" - > Y :\", data.y)\n",
    "    if cnt > 3:\n",
    "        raise Exception(\"subscription stop\")\n",
    "# global cnt:\n",
    "# 함수 내에서 전역 변수 cnt를 사용하여, 매 호출 시 값이 유지되고 증가할 수 있도록 합니다.\n",
    "# cnt += 1:\n",
    "# 콜백 함수가 호출될 때마다 cnt의 값을 1씩 증가시켜 호출 횟수를 기록합니다.\n",
    "# 출력문:\n",
    "# 현재 호출 횟수와 함께, data로 전달된 메시지의 x와 y 값을 출력합니다.\n",
    "# 이 메시지는 예를 들어, 거북이의 위치 정보를 나타내는 Pose 메시지일 수 있습니다.\n",
    "# 예외 발생:\n",
    "# 만약 cnt가 3보다 커지면 예외를 발생시킵니다.\n",
    "# 이 예외는 구독을 중단하거나 프로그램의 흐름을 변경하는 데 사용될 수 있습니다."
   ]
  },
  {
   "cell_type": "code",
   "execution_count": null,
   "metadata": {},
   "outputs": [],
   "source": [
    "test_node.create_subscription(Pose, '/turtle1/pose', callback, 10)"
   ]
  },
  {
   "cell_type": "code",
   "execution_count": null,
   "metadata": {},
   "outputs": [],
   "source": [
    "rp.spin(test_node)"
   ]
  },
  {
   "cell_type": "code",
   "execution_count": 5,
   "metadata": {},
   "outputs": [],
   "source": [
    "test_node.destroy_node()"
   ]
  }
 ],
 "metadata": {
  "kernelspec": {
   "display_name": "usr",
   "language": "python",
   "name": "python3"
  },
  "language_info": {
   "codemirror_mode": {
    "name": "ipython",
    "version": 3
   },
   "file_extension": ".py",
   "mimetype": "text/x-python",
   "name": "python",
   "nbconvert_exporter": "python",
   "pygments_lexer": "ipython3",
   "version": "3.10.12"
  }
 },
 "nbformat": 4,
 "nbformat_minor": 2
}
