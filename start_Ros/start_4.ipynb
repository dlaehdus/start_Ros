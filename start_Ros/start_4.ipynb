{
 "cells": [
  {
   "cell_type": "markdown",
   "metadata": {},
   "source": [
    "서비스 클라이언트 다루기 pytion으로 ros 클라이언트 사용하기"
   ]
  },
  {
   "cell_type": "markdown",
   "metadata": {},
   "source": [
    "https://docs.ros2.org/foxy/api/rclpy/api/init_shutdown.html"
   ]
  },
  {
   "cell_type": "code",
   "execution_count": 1,
   "metadata": {},
   "outputs": [],
   "source": [
    "import rclpy as rp\n",
    "from turtlesim.srv import TeleportAbsolute\n",
    "\n",
    "rp.init()\n",
    "test_node = rp.create_node('client_test')"
   ]
  },
  {
   "cell_type": "code",
   "execution_count": 2,
   "metadata": {},
   "outputs": [],
   "source": [
    "service_name = '/turtle1/teleport_absolute'\n",
    "cli = test_node.create_client(TeleportAbsolute, service_name)"
   ]
  },
  {
   "cell_type": "code",
   "execution_count": null,
   "metadata": {},
   "outputs": [],
   "source": [
    "req = TeleportAbsolute.Request()\n",
    "req"
   ]
  },
  {
   "cell_type": "code",
   "execution_count": 12,
   "metadata": {},
   "outputs": [
    {
     "data": {
      "text/plain": [
       "turtlesim.srv.TeleportAbsolute_Request(x=3.0, y=0.0, theta=3.14)"
      ]
     },
     "execution_count": 12,
     "metadata": {},
     "output_type": "execute_result"
    }
   ],
   "source": [
    "req.x = 3.0\n",
    "req.y = 0.0\n",
    "req.theta = 3.14\n",
    "\n",
    "req"
   ]
  },
  {
   "cell_type": "code",
   "execution_count": 15,
   "metadata": {},
   "outputs": [],
   "source": [
    "req.x = 3.0\n",
    "\n",
    "cli.call_async(req)\n",
    "rp.spin_once(test_node)"
   ]
  },
  {
   "cell_type": "code",
   "execution_count": 22,
   "metadata": {},
   "outputs": [],
   "source": [
    "req.y = 6.0\n",
    "\n",
    "while not cli.wait_for_service(timeout_sec=1.0):\n",
    "    print(\"waiting\")\n",
    "\n",
    "cli.call_async(req)\n",
    "rp.spin_once(test_node)"
   ]
  },
  {
   "cell_type": "code",
   "execution_count": 23,
   "metadata": {},
   "outputs": [
    {
     "name": "stdout",
     "output_type": "stream",
     "text": [
      "False None\n",
      "False None\n",
      "False None\n",
      "False None\n",
      "False None\n",
      "False None\n",
      "False None\n",
      "False None\n",
      "False None\n",
      "False None\n",
      "False None\n",
      "True turtlesim.srv.TeleportAbsolute_Response()\n"
     ]
    }
   ],
   "source": [
    "req.x = 9.0\n",
    "\n",
    "future = cli.call_async(req)\n",
    "\n",
    "while not future.done():\n",
    "    rp.spin_once(test_node)\n",
    "    print(future.done(), future.result())"
   ]
  },
  {
   "cell_type": "code",
   "execution_count": 24,
   "metadata": {},
   "outputs": [],
   "source": [
    "test_node.destroy_node()"
   ]
  }
 ],
 "metadata": {
  "kernelspec": {
   "display_name": "usr",
   "language": "python",
   "name": "python3"
  },
  "language_info": {
   "codemirror_mode": {
    "name": "ipython",
    "version": 3
   },
   "file_extension": ".py",
   "mimetype": "text/x-python",
   "name": "python",
   "nbconvert_exporter": "python",
   "pygments_lexer": "ipython3",
   "version": "3.10.12"
  }
 },
 "nbformat": 4,
 "nbformat_minor": 2
}
